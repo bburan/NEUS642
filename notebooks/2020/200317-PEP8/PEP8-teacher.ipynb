{
 "cells": [
  {
   "cell_type": "markdown",
   "metadata": {},
   "source": [
    "<a href=\"#Overview\"></a>\n",
    "# Overview\n",
    "* <a href=\"#9a926bab-20b9-42c8-91a5-eb2b85e5eed9\">PEP 8  -- Style Guide for Python Code</a>\n",
    "  * <a href=\"#cacae268-77c7-4d2b-b196-8099c3dfd3d4\">Why have style?</a>\n",
    "  * <a href=\"#512354c8-08e3-446d-b59b-26f14e95c5a2\">What style?</a>\n",
    "    * <a href=\"#8e8b124d-06ce-42e7-8ac6-daf4b00bfe26\">Tabs or spaces?</a>\n",
    "    * <a href=\"#4d6b5d70-1e1f-4716-bc73-9498cf868a87\">Indentation</a>\n",
    "      * <a href=\"#dc787130-db0c-4703-b391-04d6d0d24ff4\">DO</a>\n",
    "* <a href=\"#a276c17f-65a2-4899-ae3b-461e82eb7371\">Aligned with opening delimiter.</a>\n",
    "* <a href=\"#12058c6c-a831-48eb-aab1-99d3ccf8d015\">Hanging indents should add a level.</a>\n",
    "* <a href=\"#a55875e9-ddad-4579-b96a-b09a2d3ac8c2\">Add 4 spaces (an extra level of indentation) to distinguish arguments from the rest.</a>\n",
    "* <a href=\"#3b59a8f8-ea91-4683-88e0-9964ea48aba5\">same for lists and other containers that are on newlines</a>\n",
    "  * <a href=\"#9f4c1dae-a483-4409-980c-22b06fd841f1\">DON'T</a>\n",
    "* <a href=\"#2047aed0-ed7d-4b4a-b4ad-2d1605565c8a\">Arguments on first line forbidden when not using vertical alignment.</a>\n",
    "* <a href=\"#73b42422-f53c-4113-8bdc-c37decf153a1\">Further indentation required as indentation is not distinguishable.</a>\n",
    "  * <a href=\"#6e60d000-7c46-4caa-b567-afe5ac1a0a27\">Whitespace (Pet Peeves)</a>\n",
    "  * <a href=\"#b3c557dc-a724-4721-8582-d342d41ef3bf\">Comments</a>\n",
    "    * <a href=\"#8b5556e9-7de0-4a61-9a7f-b078d0e5d1df\">Inline comments</a>\n",
    "    * <a href=\"#e820b77f-7f9b-42fc-b42b-120e92903523\">Docstrings</a>\n",
    "  * <a href=\"#ba9709ab-37fc-4152-a0e4-ef6a84fb1a07\">Naming Conventions</a>\n",
    "    * <a href=\"#513140bb-2797-4338-a994-be1f1170bf08\">Functions and variables</a>\n",
    "    * <a href=\"#611f5ebe-d74e-44b0-94f5-239344f3006c\">Classes</a>\n",
    "    * <a href=\"#aa24a7c8-9b67-441c-8381-cc9d019ae0f4\">Descriptive names</a>\n",
    "    * <a href=\"#a8af418e-b4e7-4517-b83a-0057609aebec\">Exercise 1</a>"
   ]
  },
  {
   "cell_type": "markdown",
   "metadata": {},
   "source": [
    "<a id=\"9a926bab-20b9-42c8-91a5-eb2b85e5eed9\"></a>\n",
    "# PEP 8  -- Style Guide for Python Code\n",
    "<a href=\"#Overview\">Return to overview</a>\n"
   ]
  },
  {
   "cell_type": "markdown",
   "metadata": {},
   "source": [
    "Link to the full document: [PEP8](https://www.python.org/dev/peps/pep-0008/). The following is extracted from this document."
   ]
  },
  {
   "cell_type": "markdown",
   "metadata": {},
   "source": [
    "<a id=\"cacae268-77c7-4d2b-b196-8099c3dfd3d4\"></a>\n",
    "## Why have style?\n",
    "<a href=\"#Overview\">Return to overview</a>\n"
   ]
  },
  {
   "cell_type": "markdown",
   "metadata": {},
   "source": [
    "Consider the following observation:\n",
    "\n",
    "> Code is read much more often than it is written\n",
    "\n",
    "Thus, readability is critical. Readability and consistent formatting make your code easier to read and understand, for yourself and more importantly others. It makes the code more maintainable, leads to fewer bugs, and is more visually appealing."
   ]
  },
  {
   "cell_type": "markdown",
   "metadata": {},
   "source": [
    "Caveat:\n",
    "\n",
    "> A style guide is about consistency. Consistency with this style guide is important. Consistency within a project is more important. Consistency within one module or function is the most important [...] When in doubt, use your best judgment."
   ]
  },
  {
   "cell_type": "markdown",
   "metadata": {},
   "source": [
    "<a id=\"512354c8-08e3-446d-b59b-26f14e95c5a2\"></a>\n",
    "## What style?\n",
    "<a href=\"#Overview\">Return to overview</a>\n"
   ]
  },
  {
   "cell_type": "markdown",
   "metadata": {},
   "source": [
    "In it's official documents, Python lays out an opinionated style guide that developers should follow. We'll go over some of the key parts below."
   ]
  },
  {
   "cell_type": "markdown",
   "metadata": {},
   "source": [
    "<a id=\"8e8b124d-06ce-42e7-8ac6-daf4b00bfe26\"></a>\n",
    "### Tabs or spaces?\n",
    "<a href=\"#Overview\">Return to overview</a>\n"
   ]
  },
  {
   "cell_type": "markdown",
   "metadata": {},
   "source": [
    "This is a very heated debate in the programming world.\n",
    "\n",
    "PEP8 says to use 4 spaces for an indent. Regardless, don't mix tab and spaces. Most coding environments (including Jupyter, try it out!) will automatically convert a tab into 4 spaces for you."
   ]
  },
  {
   "cell_type": "markdown",
   "metadata": {},
   "source": [
    "<a id=\"4d6b5d70-1e1f-4716-bc73-9498cf868a87\"></a>\n",
    "### Indentation\n",
    "<a href=\"#Overview\">Return to overview</a>\n"
   ]
  },
  {
   "cell_type": "markdown",
   "metadata": {},
   "source": [
    "Use 4 spaces per indentation level. \n",
    "\n",
    "Continuation lines should align wrapped elements either vertically using Python's implicit line joining inside parentheses, brackets and braces, or using a hanging indent. When using a hanging indent the following should be considered; there should be no arguments on the first line and further indentation should be used to clearly distinguish itself as a continuation line."
   ]
  },
  {
   "cell_type": "markdown",
   "metadata": {},
   "source": [
    "<a id=\"dc787130-db0c-4703-b391-04d6d0d24ff4\"></a>\n",
    "#### DO\n",
    "<a href=\"#Overview\">Return to overview</a>\n"
   ]
  },
  {
   "cell_type": "markdown",
   "metadata": {},
   "source": [
    "```\n",
    "<a id=\"a276c17f-65a2-4899-ae3b-461e82eb7371\"></a>\n",
    "# Aligned with opening delimiter.\n",
    "<a href=\"#Overview\">Return to overview</a>\n",
    "foo = long_function_name(var_one, var_two,\n",
    "                         var_three, var_four)\n",
    "\n",
    "<a id=\"12058c6c-a831-48eb-aab1-99d3ccf8d015\"></a>\n",
    "# Hanging indents should add a level.\n",
    "<a href=\"#Overview\">Return to overview</a>\n",
    "foo = long_function_name(\n",
    "    var_one, \n",
    "    var_two)\n",
    "\n",
    "<a id=\"a55875e9-ddad-4579-b96a-b09a2d3ac8c2\"></a>\n",
    "# Add 4 spaces (an extra level of indentation) to distinguish arguments from the rest.\n",
    "<a href=\"#Overview\">Return to overview</a>\n",
    "def long_function_name(\n",
    "        var_one, var_two, var_three,\n",
    "        var_four):\n",
    "    print(var_one)\n",
    "    \n",
    "<a id=\"3b59a8f8-ea91-4683-88e0-9964ea48aba5\"></a>\n",
    "# same for lists and other containers that are on newlines\n",
    "<a href=\"#Overview\">Return to overview</a>\n",
    "my_list = [\n",
    "    long_item_name_number_1,\n",
    "    long_item_name_number_2,\n",
    "    etc.,\n",
    "]\n",
    "```"
   ]
  },
  {
   "cell_type": "markdown",
   "metadata": {},
   "source": [
    "<a id=\"9f4c1dae-a483-4409-980c-22b06fd841f1\"></a>\n",
    "## DON'T\n",
    "<a href=\"#Overview\">Return to overview</a>\n"
   ]
  },
  {
   "cell_type": "markdown",
   "metadata": {},
   "source": [
    "```\n",
    "<a id=\"2047aed0-ed7d-4b4a-b4ad-2d1605565c8a\"></a>\n",
    "# Arguments on first line forbidden when not using vertical alignment.\n",
    "<a href=\"#Overview\">Return to overview</a>\n",
    "foo = long_function_name(var_one, var_two,\n",
    "    var_three, var_four)\n",
    "\n",
    "<a id=\"73b42422-f53c-4113-8bdc-c37decf153a1\"></a>\n",
    "# Further indentation required as indentation is not distinguishable.\n",
    "<a href=\"#Overview\">Return to overview</a>\n",
    "def long_function_name(\n",
    "    var_one, var_two, var_three,\n",
    "    var_four):\n",
    "    print(var_one)\n",
    "```"
   ]
  },
  {
   "cell_type": "markdown",
   "metadata": {},
   "source": [
    "<a id=\"6e60d000-7c46-4caa-b567-afe5ac1a0a27\"></a>\n",
    "## Whitespace (Pet Peeves)\n",
    "<a href=\"#Overview\">Return to overview</a>\n"
   ]
  },
  {
   "cell_type": "markdown",
   "metadata": {},
   "source": [
    "Avoid extraneous whitespace in the following situations:"
   ]
  },
  {
   "cell_type": "markdown",
   "metadata": {},
   "source": [
    "- Immediately inside parentheses, brackets or braces.\n",
    "\n",
    "```\n",
    "Yes: spam(ham[1], {eggs: 2})\n",
    "No:  spam( ham[ 1 ], { eggs: 2 } )\n",
    "```"
   ]
  },
  {
   "cell_type": "markdown",
   "metadata": {},
   "source": [
    "- Between a trailing comma and a following close parenthesis.\n",
    "\n",
    "```\n",
    "Yes: foo = (0,)\n",
    "No:  bar = (0, )\n",
    "```"
   ]
  },
  {
   "cell_type": "markdown",
   "metadata": {},
   "source": [
    "- Immediately before a comma, semicolon, or colon:\n",
    "\n",
    "```\n",
    "Yes: if x == 4: print x, y; x, y = y, x\n",
    "No:  if x == 4 : print x , y ; x , y = y , x\n",
    "```"
   ]
  },
  {
   "cell_type": "markdown",
   "metadata": {},
   "source": [
    "- Slice operators require no space, except when the operator is ommited. Include whitespace after commas in slices.\n",
    "\n",
    "List slicing:\n",
    "\n",
    "```\n",
    "Yes: ham[1:9]  ham[1:9:3] ham[:9:3]   ham[1::3]   ham[1:9:]  ham[lower:upper]\n",
    "No:  ham[1: 9] ham[1 :9]  ham[1:9 :3] ham[1: ::3] ham[1:9: ] ham[lower : : upper]\n",
    "```\n",
    "  \n",
    "Numpy version:\n",
    " \n",
    "```\n",
    "Yes: ham[:, :, :] ham[3:9, 2:4] ham[:, :9]\n",
    "No:  ham[:,:,:]   ham[3:9,2:4]  ham[ :, : 9 ]\n",
    "```"
   ]
  },
  {
   "cell_type": "markdown",
   "metadata": {},
   "source": [
    "- Avoid trailing whitespace anywhere. Because it's usually invisible, it can be confusing. If operators with different priorities are used, consider adding whitespace around the operators with the lowest priority(ies). Use your own judgment; however, never use more than one space, and always have the same amount of whitespace on both sides of a binary operator."
   ]
  },
  {
   "cell_type": "markdown",
   "metadata": {},
   "source": [
    "- Always surround binary operators with a single space on either side. Exceptions to highlight order of operations.\n",
    "\n",
    "```\n",
    "Yes:\n",
    "\n",
    "i = i + 1\n",
    "submitted += 1\n",
    "x = x*2 - 1\n",
    "hypot2 = x*x + y*y\n",
    "c = (a+b) * (a-b)\n",
    "```\n",
    "\n",
    "```\n",
    "No:\n",
    "\n",
    "i=i+1\n",
    "submitted +=1\n",
    "x = x * 2 - 1\n",
    "hypot2 = x * x + y * y\n",
    "c = (a + b) * (a - b)\n",
    "```"
   ]
  },
  {
   "cell_type": "markdown",
   "metadata": {},
   "source": [
    "- Don't use spaces around the `=` sign when used to indicate a keyword argument.\n",
    "\n",
    "```\n",
    "Yes:\n",
    "\n",
    "def complex(real, imag=0.0):\n",
    "    return magic(r=real, i=imag)\n",
    "```\n",
    "\n",
    "```\n",
    "No:\n",
    "\n",
    "def complex(real, imag = 0.0):\n",
    "    return magic(r = real, i = imag)\n",
    "```"
   ]
  },
  {
   "cell_type": "markdown",
   "metadata": {},
   "source": [
    "<a id=\"b3c557dc-a724-4721-8582-d342d41ef3bf\"></a>\n",
    "## Comments\n",
    "<a href=\"#Overview\">Return to overview</a>\n"
   ]
  },
  {
   "cell_type": "markdown",
   "metadata": {},
   "source": [
    "Comments that contradict the code are worse than no comments. Always make a priority of keeping the comments up-to-date when the code changes! Comments should be complete sentences. The first word should be capitalized, unless it is an identifier that begins with a lower case letter (never alter the case of identifiers!)."
   ]
  },
  {
   "cell_type": "markdown",
   "metadata": {},
   "source": [
    "<a id=\"8b5556e9-7de0-4a61-9a7f-b078d0e5d1df\"></a>\n",
    "### Inline comments\n",
    "<a href=\"#Overview\">Return to overview</a>\n"
   ]
  },
  {
   "cell_type": "markdown",
   "metadata": {},
   "source": [
    "Use inline comments sparingly. An inline comment is a comment on the same line as a statement. Inline comments should be separated by at least two spaces from the statement. They should start with a # and a single space."
   ]
  },
  {
   "cell_type": "markdown",
   "metadata": {},
   "source": [
    "Inline comments are unnecessary and in fact distracting if they state the obvious. Don't do this:\n",
    "\n",
    "```\n",
    "x = x + 1  # Increment x\n",
    "```\n",
    "\n",
    "But sometimes, this is useful:\n",
    "\n",
    "```\n",
    "x = x + 1  # Compensate for border\n",
    "```"
   ]
  },
  {
   "cell_type": "markdown",
   "metadata": {},
   "source": [
    "<a id=\"e820b77f-7f9b-42fc-b42b-120e92903523\"></a>\n",
    "### Docstrings\n",
    "<a href=\"#Overview\">Return to overview</a>\n"
   ]
  },
  {
   "cell_type": "markdown",
   "metadata": {},
   "source": [
    "Conventions for writing good documentation strings (a.k.a. \"docstrings\") are immortalized in [PEP 257](https://www.python.org/dev/peps/pep-0257). Use three double quotes to open and close. Please give the PEP a read. Ex:\n",
    "\n",
    "```\n",
    "\"\"\"Return a foobang\n",
    "\n",
    "Optional plotz says to frobnicate the bizbaz first.\n",
    "\"\"\"\n",
    "```"
   ]
  },
  {
   "cell_type": "markdown",
   "metadata": {},
   "source": [
    "Different docstring styles do exist. A few of the more common ones are the [Sphinx](https://sphinx-rtd-tutorial.readthedocs.io/en/latest/docstrings.html), [Numpy](https://numpydoc.readthedocs.io/en/latest/format.html), and [Google](http://google.github.io/styleguide/pyguide.html#38-comments-and-docstrings) styles."
   ]
  },
  {
   "cell_type": "markdown",
   "metadata": {},
   "source": [
    "<a id=\"ba9709ab-37fc-4152-a0e4-ef6a84fb1a07\"></a>\n",
    "## Naming Conventions\n",
    "<a href=\"#Overview\">Return to overview</a>\n"
   ]
  },
  {
   "cell_type": "markdown",
   "metadata": {},
   "source": [
    "There are a lot of different naming styles. It helps to be able to recognize what naming style is being used, independently from what they are used for."
   ]
  },
  {
   "cell_type": "markdown",
   "metadata": {},
   "source": [
    "- `lowercase`\n",
    "\n",
    "- `lower_case_with_underscores` (commonly reffered to as `snake_case`)\n",
    "\n",
    "- `UPPERCASE`\n",
    "\n",
    "- `UPPER_CASE_WITH_UNDERSCORES`\n",
    "\n",
    "- `CapitalizedWords` (commonly reffered to as `CamelCase`)\n",
    "\n",
    "  Note: Capitalize acroynyms in CamelCase. i.e. `HTTPServerError`, not `HttpServerError`.\n",
    "\n",
    "- `mixedCase`\n",
    "\n",
    "- `Capitalized_Words_With_Underscores`"
   ]
  },
  {
   "cell_type": "markdown",
   "metadata": {},
   "source": [
    "Never use the characters 'l' (lowercase letter el), 'O' (uppercase letter oh), or 'I' (uppercase letter eye) as single character variable names.\n",
    "\n",
    "In some fonts, these characters are indistinguishable from the numerals one and zero. When tempted to use 'l', use 'L' instead."
   ]
  },
  {
   "cell_type": "markdown",
   "metadata": {},
   "source": [
    "<a id=\"513140bb-2797-4338-a994-be1f1170bf08\"></a>\n",
    "### Functions and variables\n",
    "<a href=\"#Overview\">Return to overview</a>\n"
   ]
  },
  {
   "cell_type": "markdown",
   "metadata": {},
   "source": [
    "Function (and methods) and variable names should be lowercase, with words separated by underscores as necessary to improve readability (i.e. `snake_case`)."
   ]
  },
  {
   "cell_type": "markdown",
   "metadata": {},
   "source": [
    "<a id=\"611f5ebe-d74e-44b0-94f5-239344f3006c\"></a>\n",
    "### Classes\n",
    "<a href=\"#Overview\">Return to overview</a>\n"
   ]
  },
  {
   "cell_type": "markdown",
   "metadata": {},
   "source": [
    "Class names should normally use the CapWords convention."
   ]
  },
  {
   "cell_type": "markdown",
   "metadata": {},
   "source": [
    "<a id=\"aa24a7c8-9b67-441c-8381-cc9d019ae0f4\"></a>\n",
    "### Descriptive names\n",
    "<a href=\"#Overview\">Return to overview</a>\n"
   ]
  },
  {
   "cell_type": "markdown",
   "metadata": {},
   "source": [
    "Having descriptive names for variables and functions is incredibly helpful. Consider the below examples. Which is most immediately obvious what it's doing?"
   ]
  },
  {
   "cell_type": "code",
   "execution_count": null,
   "metadata": {},
   "outputs": [],
   "source": [
    "def func(i):\n",
    "    a, b = 0, 1\n",
    "    while a < i:\n",
    "        yield a\n",
    "        a, b = b, a + b       \n",
    "list(func(10))"
   ]
  },
  {
   "cell_type": "code",
   "execution_count": null,
   "metadata": {},
   "outputs": [],
   "source": [
    "def fibonnaci_generator(max_value):\n",
    "    \"\"\"Generates fibonnaci numbers up to max_value.\"\"\"\n",
    "    a, b = 0, 1\n",
    "    while a < max_value:\n",
    "        yield a\n",
    "        a, b = b, a + b\n",
    "list(fibonnaci_generator(10))"
   ]
  },
  {
   "cell_type": "code",
   "execution_count": null,
   "metadata": {},
   "outputs": [],
   "source": [
    "# what is this even doing?!?\n",
    "i = 2\n",
    "l = []\n",
    "while(i < 20):\n",
    "    j = 2\n",
    "    while(j <= (i / j)):\n",
    "        if not(i % j):\n",
    "            break\n",
    "        j = j + 1\n",
    "    if (j > i/j): \n",
    "        l.append(i)\n",
    "    i = i + 1\n",
    "print(l)"
   ]
  },
  {
   "cell_type": "code",
   "execution_count": null,
   "metadata": {},
   "outputs": [],
   "source": [
    "# versus much clearer version:\n",
    "prime_candidate = 2\n",
    "found_primes = []\n",
    "\n",
    "while(prime_candidate < 20):\n",
    "    divisor = 2\n",
    "    # don't check beyond multiples of divisor\n",
    "    while divisor <= prime_candidate / divisor:\n",
    "        if prime_candidate % divisor == 0:\n",
    "            break\n",
    "        divisor += 1\n",
    "\n",
    "    # reached end without finding a divisor: it's a prime!\n",
    "    if divisor > prime_candidate / divisor:\n",
    "        found_primes.append(prime_candidate)\n",
    "    prime_candidate += 1\n",
    "\n",
    "print(found_primes)"
   ]
  },
  {
   "cell_type": "markdown",
   "metadata": {},
   "source": [
    "<a id=\"a8af418e-b4e7-4517-b83a-0057609aebec\"></a>\n",
    "### Exercise 1\n",
    "<a href=\"#Overview\">Return to overview</a>\n"
   ]
  },
  {
   "cell_type": "markdown",
   "metadata": {},
   "source": [
    "This bit of code below is really ugly, and violates a lot of the guidelines outlined above. Go ahead and fix it!"
   ]
  },
  {
   "cell_type": "code",
   "execution_count": null,
   "metadata": {},
   "outputs": [],
   "source": [
    "def ADD(valueone, valuetwo):\n",
    "    ValueThree = valueone + valuetwo\n",
    "    return ValueThree\n",
    "\n",
    "def fcalc(a, b, s):\n",
    "    '''\n",
    "        Calculator\n",
    "  '''\n",
    "    if s=='+':\n",
    "     return ADD(a, b)    # add a and b\n",
    "    elif s == '-': return a - b\n",
    "    elif s == '*' or s =='x':\n",
    "        return a * b\n",
    "    #divide a by b\n",
    "    elif s  =='/':\n",
    "          return a/b\n",
    "    elif s == '^':\n",
    "        \n",
    "        return a ** b\n",
    "    else:# raise an error\n",
    "            raise ValueError(f'Could not recognize operator \"{s}\".')"
   ]
  },
  {
   "cell_type": "code",
   "execution_count": null,
   "metadata": {},
   "outputs": [],
   "source": [
    "%load \"answers/answer_001.txt\""
   ]
  },
  {
   "cell_type": "code",
   "execution_count": null,
   "metadata": {},
   "outputs": [],
   "source": []
  }
 ],
 "metadata": {
  "kernelspec": {
   "display_name": "Python 3",
   "language": "python",
   "name": "python3"
  },
  "language_info": {
   "codemirror_mode": {
    "name": "ipython",
    "version": 3
   },
   "file_extension": ".py",
   "mimetype": "text/x-python",
   "name": "python",
   "nbconvert_exporter": "python",
   "pygments_lexer": "ipython3",
   "version": "3.7.6"
  }
 },
 "nbformat": 4,
 "nbformat_minor": 4
}
